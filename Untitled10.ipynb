{
  "nbformat": 4,
  "nbformat_minor": 0,
  "metadata": {
    "colab": {
      "provenance": [],
      "authorship_tag": "ABX9TyP0obXCIO08oltka75Z5bwH",
      "include_colab_link": true
    },
    "kernelspec": {
      "name": "python3",
      "display_name": "Python 3"
    },
    "language_info": {
      "name": "python"
    }
  },
  "cells": [
    {
      "cell_type": "markdown",
      "metadata": {
        "id": "view-in-github",
        "colab_type": "text"
      },
      "source": [
        "<a href=\"https://colab.research.google.com/github/Ayron-Kevin/Programa-o-FPB---Aulas/blob/main/Untitled10.ipynb\" target=\"_parent\"><img src=\"https://colab.research.google.com/assets/colab-badge.svg\" alt=\"Open In Colab\"/></a>"
      ]
    },
    {
      "cell_type": "code",
      "source": [
        "provaA = {'Andrade': 8.5, 'Ana': 7.0, 'Chico': 6.5, 'Nubia':10, 'Luana':8}\n",
        "provaB = {'Julio': 5.5, 'Aristides': 6.0, 'Sebastiana': 9.5, 'Camila':10, 'João':7.5}\n",
        "\n",
        "resultado_final = {}  # novo dicionário resultado_final\n",
        "resultado_final.update(provaA)\n",
        "resultado_final.update(provaB)\n",
        "\n",
        "print(resultado_final)"
      ],
      "metadata": {
        "colab": {
          "base_uri": "https://localhost:8080/"
        },
        "id": "kix7z9C3Ew-D",
        "outputId": "fc7554b1-e6b3-41f1-f23d-21a2967f65f4"
      },
      "execution_count": 4,
      "outputs": [
        {
          "output_type": "stream",
          "name": "stdout",
          "text": [
            "{'Andrade': 8.5, 'Ana': 7.0, 'Chico': 6.5, 'Nubia': 10, 'Luana': 8, 'Julio': 5.5, 'Aristides': 6.0, 'Sebastiana': 9.5, 'Camila': 10, 'João': 7.5}\n"
          ]
        }
      ]
    },
    {
      "cell_type": "code",
      "source": [
        "#ordenação\n",
        "resultado_final = {'Andrade': 8.5, 'Ana': 7.0, 'Chico': 6.5, 'Nubia': 10, 'Luana': 8, 'Julio': 5.5, 'Aristides': 6.0, 'Sebastiana': 9.5, 'Camila': 10, 'João': 7.5}\n",
        "\n",
        "ordenado = sorted(resultado_final.items(), key=lambda x: x[1], reverse=True)\n",
        "\n",
        "print(ordenado)"
      ],
      "metadata": {
        "colab": {
          "base_uri": "https://localhost:8080/"
        },
        "id": "Cd7P1DPZIKk8",
        "outputId": "aa41c40f-7e86-4c4c-edb7-68b1ad770ea8"
      },
      "execution_count": 16,
      "outputs": [
        {
          "output_type": "stream",
          "name": "stdout",
          "text": [
            "[('Nubia', 10), ('Camila', 10), ('Sebastiana', 9.5), ('Andrade', 8.5), ('Luana', 8), ('João', 7.5), ('Ana', 7.0), ('Chico', 6.5), ('Aristides', 6.0), ('Julio', 5.5)]\n"
          ]
        }
      ]
    },
    {
      "cell_type": "code",
      "source": [
        "listaCandidatos = list(resultado_final.keys())\n",
        "listaCandidatos"
      ],
      "metadata": {
        "colab": {
          "base_uri": "https://localhost:8080/"
        },
        "id": "5duwfnDBLNXb",
        "outputId": "8bf71dc6-0b95-4e97-ad28-a5d7185af3c4"
      },
      "execution_count": 21,
      "outputs": [
        {
          "output_type": "execute_result",
          "data": {
            "text/plain": [
              "['Andrade',\n",
              " 'Ana',\n",
              " 'Chico',\n",
              " 'Nubia',\n",
              " 'Luana',\n",
              " 'Julio',\n",
              " 'Aristides',\n",
              " 'Sebastiana',\n",
              " 'Camila',\n",
              " 'João']"
            ]
          },
          "metadata": {},
          "execution_count": 21
        }
      ]
    },
    {
      "cell_type": "code",
      "source": [
        "listaNotas = list(resultado_final.values())\n",
        "listaNotas"
      ],
      "metadata": {
        "colab": {
          "base_uri": "https://localhost:8080/"
        },
        "id": "PCt8EWFpMJFz",
        "outputId": "c29c56e1-3ed6-4a7a-b5cc-13fd051baa3a"
      },
      "execution_count": 22,
      "outputs": [
        {
          "output_type": "execute_result",
          "data": {
            "text/plain": [
              "[8.5, 7.0, 6.5, 10, 8, 5.5, 6.0, 9.5, 10, 7.5]"
            ]
          },
          "metadata": {},
          "execution_count": 22
        }
      ]
    },
    {
      "cell_type": "code",
      "source": [
        "resultado_final.get('Epaminondas', 'Candidato não existe')"
      ],
      "metadata": {
        "colab": {
          "base_uri": "https://localhost:8080/"
        },
        "id": "qcZ-dFagNakz",
        "outputId": "0d7b59bb-82fe-4701-eb47-7bdac5be67d0"
      },
      "execution_count": 26,
      "outputs": [
        {
          "output_type": "execute_result",
          "data": {
            "text/plain": [
              "7.0"
            ]
          },
          "metadata": {},
          "execution_count": 26
        }
      ]
    },
    {
      "cell_type": "code",
      "source": [
        "def consultaNota(dicionario, nome):\n",
        "  return resultado_final.get(nome, 'Candidato não existe')\n",
        "\n",
        "consultaNota(resultado_final, 'Aloisio')"
      ],
      "metadata": {
        "colab": {
          "base_uri": "https://localhost:8080/",
          "height": 35
        },
        "id": "RwFG5IMoPyzG",
        "outputId": "118d6c8b-34db-47d2-a60c-68b38e02b8f0"
      },
      "execution_count": 28,
      "outputs": [
        {
          "output_type": "execute_result",
          "data": {
            "text/plain": [
              "'Candidato não existe'"
            ],
            "application/vnd.google.colaboratory.intrinsic+json": {
              "type": "string"
            }
          },
          "metadata": {},
          "execution_count": 28
        }
      ]
    },
    {
      "cell_type": "code",
      "source": [],
      "metadata": {
        "id": "om_DqOpSQpTo"
      },
      "execution_count": null,
      "outputs": []
    }
  ]
}