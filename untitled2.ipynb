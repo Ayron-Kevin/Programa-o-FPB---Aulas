{
  "nbformat": 4,
  "nbformat_minor": 0,
  "metadata": {
    "colab": {
      "provenance": [],
      "authorship_tag": "ABX9TyMseHlr0nFFjw8QSh2Uj0V8",
      "include_colab_link": true
    },
    "kernelspec": {
      "name": "python3",
      "display_name": "Python 3"
    },
    "language_info": {
      "name": "python"
    }
  },
  "cells": [
    {
      "cell_type": "markdown",
      "metadata": {
        "id": "view-in-github",
        "colab_type": "text"
      },
      "source": [
        "<a href=\"https://colab.research.google.com/github/Ayron-Kevin/Programa-o-FPB---Aulas/blob/main/untitled2.ipynb\" target=\"_parent\"><img src=\"https://colab.research.google.com/assets/colab-badge.svg\" alt=\"Open In Colab\"/></a>"
      ]
    },
    {
      "cell_type": "code",
      "source": [
        "sexo= input('isira o sexo, M (masculino) ou F (feminino:')\n",
        "idade = int(input('insira a idade:'))\n",
        "if((sexo == 'M' and idade >=50) or (sexo == 'F'and idade >=60)):\n",
        "  print('pode se aposentar')\n",
        "else:\n",
        "    print ('ainda não pode se aposentar')\n"
      ],
      "metadata": {
        "colab": {
          "base_uri": "https://localhost:8080/"
        },
        "id": "sdHszF33wDgb",
        "outputId": "34c24e9f-5f72-4339-a8d2-3dac4da23c28"
      },
      "execution_count": null,
      "outputs": [
        {
          "output_type": "stream",
          "name": "stdout",
          "text": [
            "isira o sexo, M (masculino) ou F (feminino:F\n",
            "insira a idade:55\n",
            "ainda não pode se aposentar\n"
          ]
        }
      ]
    },
    {
      "cell_type": "code",
      "source": [
        "#Escreva um algoritmo que receba 2 valores inteiros \n",
        "# e escreva na tela qual é o maior.\n",
        "\n",
        "numero1= int(input('insira um numero:'))\n",
        "numero2= int(input('insira um numero'))\n",
        "if(numero1 > numero2):\n",
        "  print('numero1 é maior')\n",
        "elif(numero1 == numero2):\n",
        "  print('são iguais')\n",
        "else: \n",
        "  print('numero2 é maior')\n"
      ],
      "metadata": {
        "colab": {
          "base_uri": "https://localhost:8080/"
        },
        "id": "7uf2961XyzEs",
        "outputId": "96299895-f6a7-4f01-d241-99ab14714acb"
      },
      "execution_count": null,
      "outputs": [
        {
          "output_type": "stream",
          "name": "stdout",
          "text": [
            "insira um numero:35\n",
            "insira um numero35\n",
            "são iguais\n"
          ]
        }
      ]
    },
    {
      "cell_type": "code",
      "source": [
        "#Lista são estruturas de dados formadas por elementos de mesmo tipo \n",
        "numeros = [25, 4, 3, 6]\n",
        "numeros"
      ],
      "metadata": {
        "colab": {
          "base_uri": "https://localhost:8080/"
        },
        "id": "3jxsbNlf61PS",
        "outputId": "e17a47ce-2533-4ce3-9b1e-5f80f0d58f04"
      },
      "execution_count": null,
      "outputs": [
        {
          "output_type": "execute_result",
          "data": {
            "text/plain": [
              "[25, 4, 3, 6, 9]"
            ]
          },
          "metadata": {},
          "execution_count": 24
        }
      ]
    },
    {
      "cell_type": "code",
      "source": [
        "#tamanho de uma lista\n",
        "len(numeros)"
      ],
      "metadata": {
        "id": "KGhFj-4m7yfr"
      },
      "execution_count": null,
      "outputs": []
    },
    {
      "cell_type": "code",
      "source": [
        "#Indices [25, 4, 3, 6]\n",
        "print(numeros[0])\n",
        "print(numeros[1])\n",
        "print(numeros[2])\n",
        "print(numeros[3])"
      ],
      "metadata": {
        "colab": {
          "base_uri": "https://localhost:8080/"
        },
        "id": "uAq9JfHe8SSw",
        "outputId": "34170011-7c76-404a-abee-7a0c1e83e5c1"
      },
      "execution_count": null,
      "outputs": [
        {
          "output_type": "stream",
          "name": "stdout",
          "text": [
            "25\n",
            "4\n",
            "3\n",
            "6\n"
          ]
        }
      ]
    },
    {
      "cell_type": "code",
      "source": [],
      "metadata": {
        "id": "8MoZOUFFASbN"
      },
      "execution_count": null,
      "outputs": []
    },
    {
      "cell_type": "code",
      "source": [
        "#Listas de outros tipos\n",
        "alunos=['Mariana', 'Luiz', 'Higor', 'Enzo']\n",
        "alunos"
      ],
      "metadata": {
        "colab": {
          "base_uri": "https://localhost:8080/"
        },
        "id": "rFkuYJHm-JPy",
        "outputId": "9a70e6a4-8de8-42f6-bcf9-e72a4c91df39"
      },
      "execution_count": null,
      "outputs": [
        {
          "output_type": "execute_result",
          "data": {
            "text/plain": [
              "['Mariana', 'Luiz', 'Higor', 'Enzo']"
            ]
          },
          "metadata": {},
          "execution_count": 46
        }
      ]
    },
    {
      "cell_type": "code",
      "source": [
        "#alterar o valores de ítens de lista \n",
        "alunos[3]='Ivan'\n",
        "alunos\n"
      ],
      "metadata": {
        "colab": {
          "base_uri": "https://localhost:8080/"
        },
        "id": "N6DuqaCU-l7v",
        "outputId": "c03cae52-c376-4263-d80b-d0d60240644d"
      },
      "execution_count": null,
      "outputs": [
        {
          "output_type": "execute_result",
          "data": {
            "text/plain": [
              "['Mariana', 'Luiz', 'Higor', 'Ivan', 'Valentina', 'Aderbal', 'Alu']"
            ]
          },
          "metadata": {},
          "execution_count": 45
        }
      ]
    },
    {
      "cell_type": "code",
      "source": [
        "#inserir valores \n",
        "alunos.append ('Aderbal')\n",
        "alunos"
      ],
      "metadata": {
        "colab": {
          "base_uri": "https://localhost:8080/"
        },
        "id": "zAaqfAmO_JP3",
        "outputId": "7463951b-1883-4f1f-8d01-73b3df00ca86"
      },
      "execution_count": null,
      "outputs": [
        {
          "output_type": "execute_result",
          "data": {
            "text/plain": [
              "['Mariana', 'Luiz', 'Higor', 'Ivan', 'Valentina', 'Aderbal']"
            ]
          },
          "metadata": {},
          "execution_count": 43
        }
      ]
    },
    {
      "cell_type": "code",
      "source": [
        "alunos.append(input('Digite o nome'))\n",
        "alunos"
      ],
      "metadata": {
        "colab": {
          "base_uri": "https://localhost:8080/"
        },
        "id": "SrNOYTFX_50B",
        "outputId": "894ebda1-36d3-4945-b3e0-7f84b15ae296"
      },
      "execution_count": null,
      "outputs": [
        {
          "name": "stdout",
          "output_type": "stream",
          "text": [
            "Digite o nomeClavin\n"
          ]
        },
        {
          "output_type": "execute_result",
          "data": {
            "text/plain": [
              "['Mariana', 'Luiz', 'Higor', 'Enzo', 'alu', 'Clavin']"
            ]
          },
          "metadata": {},
          "execution_count": 48
        }
      ]
    },
    {
      "cell_type": "code",
      "source": [
        "#Descobrir se há um valor determinado na lista, exibir sua posição\n",
        "if 'Mariana'"
      ],
      "metadata": {
        "id": "wbAx7f4uBR1J"
      },
      "execution_count": null,
      "outputs": []
    }
  ]
}