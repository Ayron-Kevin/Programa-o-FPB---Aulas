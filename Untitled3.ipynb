{
  "nbformat": 4,
  "nbformat_minor": 0,
  "metadata": {
    "colab": {
      "provenance": [],
      "authorship_tag": "ABX9TyMWGhIZJ4KLcSE80Rn74znG",
      "include_colab_link": true
    },
    "kernelspec": {
      "name": "python3",
      "display_name": "Python 3"
    },
    "language_info": {
      "name": "python"
    }
  },
  "cells": [
    {
      "cell_type": "markdown",
      "metadata": {
        "id": "view-in-github",
        "colab_type": "text"
      },
      "source": [
        "<a href=\"https://colab.research.google.com/github/Ayron-Kevin/Programa-o-FPB---Aulas/blob/main/Untitled3.ipynb\" target=\"_parent\"><img src=\"https://colab.research.google.com/assets/colab-badge.svg\" alt=\"Open In Colab\"/></a>"
      ]
    },
    {
      "cell_type": "code",
      "source": [
        "#Criar uma lista com números de 1 a 15\n",
        "numeros = []\n",
        "for num in range(50):\n",
        "  numeros.append(num)\n",
        "\n",
        "numeros\n",
        "\n",
        "\n"
      ],
      "metadata": {
        "colab": {
          "base_uri": "https://localhost:8080/"
        },
        "id": "98Sa2SvYtgUW",
        "outputId": "2e9c40a8-6a6a-445e-cbc8-169f218bbfcf"
      },
      "execution_count": 31,
      "outputs": [
        {
          "output_type": "execute_result",
          "data": {
            "text/plain": [
              "[0,\n",
              " 1,\n",
              " 2,\n",
              " 3,\n",
              " 4,\n",
              " 5,\n",
              " 6,\n",
              " 7,\n",
              " 8,\n",
              " 9,\n",
              " 10,\n",
              " 11,\n",
              " 12,\n",
              " 13,\n",
              " 14,\n",
              " 15,\n",
              " 16,\n",
              " 17,\n",
              " 18,\n",
              " 19,\n",
              " 20,\n",
              " 21,\n",
              " 22,\n",
              " 23,\n",
              " 24,\n",
              " 25,\n",
              " 26,\n",
              " 27,\n",
              " 28,\n",
              " 29,\n",
              " 30,\n",
              " 31,\n",
              " 32,\n",
              " 33,\n",
              " 34,\n",
              " 35,\n",
              " 36,\n",
              " 37,\n",
              " 38,\n",
              " 39,\n",
              " 40,\n",
              " 41,\n",
              " 42,\n",
              " 43,\n",
              " 44,\n",
              " 45,\n",
              " 46,\n",
              " 47,\n",
              " 48,\n",
              " 49]"
            ]
          },
          "metadata": {},
          "execution_count": 31
        }
      ]
    },
    {
      "cell_type": "code",
      "source": [
        "#Para usar a bibliotecar Radom, é preciso importá-la\n",
        "import random\n",
        "\n",
        "#Criar uma lista com tamanho aleatório (entre 0 e 50)\n",
        "nums2 = []\n",
        "for num in range(random.randrange(0, 50)):\n",
        "  nums2.append(num)\n",
        "\n",
        "nums2"
      ],
      "metadata": {
        "colab": {
          "base_uri": "https://localhost:8080/"
        },
        "id": "cCeWm66iwSGU",
        "outputId": "ef471259-047e-4e58-ba06-8a5ad997315c"
      },
      "execution_count": 27,
      "outputs": [
        {
          "output_type": "execute_result",
          "data": {
            "text/plain": [
              "[0, 1, 2, 3, 4, 5]"
            ]
          },
          "metadata": {},
          "execution_count": 27
        }
      ]
    },
    {
      "cell_type": "code",
      "source": [
        "\n",
        "#(Parentesis)Descobrir se um número é par\n",
        "a = int(input('Digite um numero!'))\n",
        "if a % 2 == 0:\n",
        "  print('é par')\n",
        "else:\n",
        "  print('é impar')"
      ],
      "metadata": {
        "colab": {
          "base_uri": "https://localhost:8080/"
        },
        "id": "SUgWICeI0Q67",
        "outputId": "7436b2a1-f5a8-48c5-c5d5-427642161f83"
      },
      "execution_count": 26,
      "outputs": [
        {
          "output_type": "stream",
          "name": "stdout",
          "text": [
            "Digite um numero!4\n",
            "é par\n"
          ]
        }
      ]
    },
    {
      "cell_type": "code",
      "source": [
        "#printar os números pares até 50\n",
        "numPares = []\n",
        "for num in range(51):\n",
        "  if(num % 2 == 0):\n",
        "   numPares.append(num)\n",
        "numPares"
      ],
      "metadata": {
        "colab": {
          "base_uri": "https://localhost:8080/"
        },
        "id": "RiYOwgnt2gG_",
        "outputId": "2b302019-94cc-4758-ea6a-dce31577ad36"
      },
      "execution_count": 49,
      "outputs": [
        {
          "output_type": "execute_result",
          "data": {
            "text/plain": [
              "[0,\n",
              " 2,\n",
              " 4,\n",
              " 6,\n",
              " 8,\n",
              " 10,\n",
              " 12,\n",
              " 14,\n",
              " 16,\n",
              " 18,\n",
              " 20,\n",
              " 22,\n",
              " 24,\n",
              " 26,\n",
              " 28,\n",
              " 30,\n",
              " 32,\n",
              " 34,\n",
              " 36,\n",
              " 38,\n",
              " 40,\n",
              " 42,\n",
              " 44,\n",
              " 46,\n",
              " 48,\n",
              " 50]"
            ]
          },
          "metadata": {},
          "execution_count": 49
        }
      ]
    },
    {
      "cell_type": "code",
      "source": [
        "#Retorne a soma dos números de 1 a 100\n",
        "soma = 0\n",
        "\n",
        "for n in range(101):\n",
        "  soma = soma+n\n",
        "  \n",
        "soma\n"
      ],
      "metadata": {
        "colab": {
          "base_uri": "https://localhost:8080/"
        },
        "id": "v2wDfi8y3cu3",
        "outputId": "d1024819-f489-411e-9931-baaa6ecc0f13"
      },
      "execution_count": 52,
      "outputs": [
        {
          "output_type": "execute_result",
          "data": {
            "text/plain": [
              "5050"
            ]
          },
          "metadata": {},
          "execution_count": 52
        }
      ]
    },
    {
      "cell_type": "code",
      "source": [
        "#criar um programa que lista os números de 1 a 10 usando while\n",
        "##precisamos de um contador!\n",
        "cont = 0\n",
        "\n",
        "while (cont < 10):\n",
        "  print(cont +1)\n",
        "  cont+=1"
      ],
      "metadata": {
        "colab": {
          "base_uri": "https://localhost:8080/"
        },
        "id": "M8ph9V2Y8hyJ",
        "outputId": "b357d4f5-8e73-4d4b-f908-ce05560b84ee"
      },
      "execution_count": 53,
      "outputs": [
        {
          "output_type": "stream",
          "name": "stdout",
          "text": [
            "1\n",
            "2\n",
            "3\n",
            "4\n",
            "5\n",
            "6\n",
            "7\n",
            "8\n",
            "9\n",
            "10\n"
          ]
        }
      ]
    },
    {
      "cell_type": "code",
      "source": [
        "#Pede ao usuário para inserir um número inteiro maior que 1 \n",
        "#O programa deve imprimir todos os números até o números (positivos)\n",
        "\n",
        "cont = 0\n",
        "numero = int(input('Digite um número'))\n",
        "\n",
        "while (cont <= numero):\n",
        "   print(cont)\n",
        "   cont+=1\n",
        "\n",
        "\n"
      ],
      "metadata": {
        "colab": {
          "base_uri": "https://localhost:8080/"
        },
        "id": "ElEn2Cv6-Ifa",
        "outputId": "a534047c-858d-4ca7-d283-fdfcb6d1fa50"
      },
      "execution_count": 58,
      "outputs": [
        {
          "output_type": "stream",
          "name": "stdout",
          "text": [
            "Digite um número10\n",
            "0\n",
            "1\n",
            "2\n",
            "3\n",
            "4\n",
            "5\n",
            "6\n",
            "7\n",
            "8\n",
            "9\n",
            "10\n"
          ]
        }
      ]
    },
    {
      "cell_type": "code",
      "source": [
        "#Crie uma lista de compras, encerra caso digite 0.\n",
        "comprasLista = []\n",
        "item = input('Digite o item: ')\n",
        "\n",
        "while (item != '0'):\n",
        "  comprasLista.append(item)\n",
        "  item = input('Digite o item: ')\n",
        "\n",
        "comprasLista"
      ],
      "metadata": {
        "colab": {
          "base_uri": "https://localhost:8080/"
        },
        "id": "YlGhceOyD0aF",
        "outputId": "a0d84933-60bb-4b4e-87ef-e6f0756f0e23"
      },
      "execution_count": 59,
      "outputs": [
        {
          "name": "stdout",
          "output_type": "stream",
          "text": [
            "Digite o item: Macarrão\n",
            "Digite o item: Torta\n",
            "Digite o item: Bolo\n",
            "Digite o item: Pão\n",
            "Digite o item: 0\n"
          ]
        },
        {
          "output_type": "execute_result",
          "data": {
            "text/plain": [
              "['Macarrão', 'Torta', 'Bolo', 'Pão']"
            ]
          },
          "metadata": {},
          "execution_count": 59
        }
      ]
    }
  ]
}