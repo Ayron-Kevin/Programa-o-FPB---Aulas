{
  "nbformat": 4,
  "nbformat_minor": 0,
  "metadata": {
    "colab": {
      "provenance": [],
      "authorship_tag": "ABX9TyPM+CXQM2UdCF51Bp3Gc/Uq",
      "include_colab_link": true
    },
    "kernelspec": {
      "name": "python3",
      "display_name": "Python 3"
    },
    "language_info": {
      "name": "python"
    }
  },
  "cells": [
    {
      "cell_type": "markdown",
      "metadata": {
        "id": "view-in-github",
        "colab_type": "text"
      },
      "source": [
        "<a href=\"https://colab.research.google.com/github/Ayron-Kevin/Programa-o-FPB---Aulas/blob/main/Aula01_Pyton.ipynb\" target=\"_parent\"><img src=\"https://colab.research.google.com/assets/colab-badge.svg\" alt=\"Open In Colab\"/></a>"
      ]
    },
    {
      "cell_type": "code",
      "execution_count": null,
      "metadata": {
        "id": "cuVvgR_ot7k6"
      },
      "outputs": [],
      "source": []
    },
    {
      "cell_type": "markdown",
      "source": [
        "Meu primeiro notebook Python"
      ],
      "metadata": {
        "id": "vyOJXUKSvp6f"
      }
    },
    {
      "cell_type": "code",
      "source": [
        "print(\"Eu vou programar, geral!\")"
      ],
      "metadata": {
        "colab": {
          "base_uri": "https://localhost:8080/"
        },
        "id": "mio8L6_Evyrm",
        "outputId": "2f71d0b0-8f3f-4cd1-9ee3-113bb02e460c"
      },
      "execution_count": null,
      "outputs": [
        {
          "output_type": "stream",
          "name": "stdout",
          "text": [
            "Eu vou programar, geral!\n"
          ]
        }
      ]
    },
    {
      "cell_type": "code",
      "source": [
        "#Variáveis\n",
        "nome = \"Ayron Kevin\"\n",
        "print(nome)"
      ],
      "metadata": {
        "id": "zyibfJmNwbW0"
      },
      "execution_count": null,
      "outputs": []
    },
    {
      "cell_type": "code",
      "source": [
        "#Operações com variáveis \n",
        "a = 20\n",
        "b = 35\n",
        "soma = a + b\n",
        "subtracao = a - b \n",
        "divisao = a / b\n",
        "multipli = a * b"
      ],
      "metadata": {
        "id": "TDjCATfAw9FW"
      },
      "execution_count": null,
      "outputs": []
    },
    {
      "cell_type": "code",
      "source": [
        "print(soma)\n",
        "print(subtracao)\n",
        "print(divisao)\n",
        "print(multipli)"
      ],
      "metadata": {
        "colab": {
          "base_uri": "https://localhost:8080/"
        },
        "id": "MVrH3glryY91",
        "outputId": "617211cd-4632-4c4a-b8bc-86bf031d790d"
      },
      "execution_count": null,
      "outputs": [
        {
          "output_type": "stream",
          "name": "stdout",
          "text": [
            "55\n",
            "-15\n",
            "0.5714285714285714\n",
            "700\n"
          ]
        }
      ]
    },
    {
      "cell_type": "code",
      "source": [
        "#dobro\n",
        "num = 42\n",
        "print ( num *2)"
      ],
      "metadata": {
        "colab": {
          "base_uri": "https://localhost:8080/"
        },
        "id": "wFAIh9ck08f-",
        "outputId": "b3172c25-7f08-4846-ef85-ba7c1df8d720"
      },
      "execution_count": null,
      "outputs": [
        {
          "output_type": "stream",
          "name": "stdout",
          "text": [
            "84\n"
          ]
        }
      ]
    },
    {
      "cell_type": "code",
      "source": [
        "#média\n",
        "n1 = 10\n",
        "n2 = 8\n",
        "n3 = 7\n",
        "media = (n1+n2+n3)/3\n",
        "print(media)\n"
      ],
      "metadata": {
        "colab": {
          "base_uri": "https://localhost:8080/"
        },
        "id": "slBnb4Pg1Gxu",
        "outputId": "ec2b850d-0546-48e7-c12a-535d4036e32d"
      },
      "execution_count": null,
      "outputs": [
        {
          "output_type": "stream",
          "name": "stdout",
          "text": [
            "8.333333333333334\n"
          ]
        }
      ]
    },
    {
      "cell_type": "code",
      "source": [
        "#Calcule idade\n",
        "anoNascim = 2003\n",
        "print( 2023-2003)"
      ],
      "metadata": {
        "colab": {
          "base_uri": "https://localhost:8080/"
        },
        "id": "fYC4Fsml1_AA",
        "outputId": "5d761e26-1fe3-4e07-a911-0a3cc84c4745"
      },
      "execution_count": null,
      "outputs": [
        {
          "output_type": "stream",
          "name": "stdout",
          "text": [
            "20\n"
          ]
        }
      ]
    },
    {
      "cell_type": "code",
      "source": [
        "#Pede um número e multiplica por 3\n",
        "#PARSE\n",
        "num = int(input('Digita ai, otaro! '))\n",
        "print(num*3)\n"
      ],
      "metadata": {
        "colab": {
          "base_uri": "https://localhost:8080/"
        },
        "id": "V3fsyQSd5QX2",
        "outputId": "fb4c1fb3-4ce0-4dfd-d4a3-eaab9a10ad7e"
      },
      "execution_count": null,
      "outputs": [
        {
          "output_type": "stream",
          "name": "stdout",
          "text": [
            "Digita ai, otaro! 2\n",
            "6\n"
          ]
        }
      ]
    }
  ]
}