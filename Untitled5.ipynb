{
  "nbformat": 4,
  "nbformat_minor": 0,
  "metadata": {
    "colab": {
      "provenance": [],
      "authorship_tag": "ABX9TyORb8WdgBORWzO205eNBga7",
      "include_colab_link": true
    },
    "kernelspec": {
      "name": "python3",
      "display_name": "Python 3"
    },
    "language_info": {
      "name": "python"
    }
  },
  "cells": [
    {
      "cell_type": "markdown",
      "metadata": {
        "id": "view-in-github",
        "colab_type": "text"
      },
      "source": [
        "<a href=\"https://colab.research.google.com/github/Ayron-Kevin/Programa-o-FPB---Aulas/blob/main/Untitled5.ipynb\" target=\"_parent\"><img src=\"https://colab.research.google.com/assets/colab-badge.svg\" alt=\"Open In Colab\"/></a>"
      ]
    },
    {
      "cell_type": "code",
      "source": [
        "nomes = ['Zé', 'Tião','Joaquim']\n",
        "nomes.append('Julia')\n",
        "nomes\n",
        "\n",
        "#vários valores\n",
        "outrosNomes = {'Ana','Zabé', ' Maria'}\n",
        "nomes.extend(outrosNomes)\n",
        "\n",
        "nomes"
      ],
      "metadata": {
        "colab": {
          "base_uri": "https://localhost:8080/"
        },
        "id": "WT5innkP7yjw",
        "outputId": "8f047462-7e37-4bfa-c7bf-a62b59ac357c"
      },
      "execution_count": 2,
      "outputs": [
        {
          "output_type": "execute_result",
          "data": {
            "text/plain": [
              "['Zé', 'Tião', 'Joaquim', 'Julia', 'Zabé', 'Ana', ' Maria']"
            ]
          },
          "metadata": {},
          "execution_count": 2
        }
      ]
    },
    {
      "cell_type": "code",
      "source": [
        "#Crie uma lista de números e\n",
        "numeros = [2, 4, 1, 6, 9, 12]\n",
        "#remova o primero elemento da lista\n",
        "numeros.remove(numeros[0])\n",
        "#remova o último elemento da lista\n",
        "numeros.pop()\n",
        "\n",
        "numeros\n",
        "\n"
      ],
      "metadata": {
        "colab": {
          "base_uri": "https://localhost:8080/"
        },
        "id": "6cpX_Jyt9lEw",
        "outputId": "b9ed048d-976c-4b71-ef18-d74a633378e3"
      },
      "execution_count": 3,
      "outputs": [
        {
          "output_type": "execute_result",
          "data": {
            "text/plain": [
              "[4, 1, 6, 9]"
            ]
          },
          "metadata": {},
          "execution_count": 3
        }
      ]
    },
    {
      "cell_type": "code",
      "source": [
        "#1 - Crie uma lista de notas, e exiba-a da menor para\n",
        "notas = [2, 10, 9, 4, 7, 3, 8]\n",
        "nomes = ['Ademar','Maristênio','Asdrúbal','Leo']\n",
        "notas.sort()\n",
        "nomes.sort(reverse=True)\n",
        "#2 - Crie uma lista de nomes de frutas e ordene-a \n",
        "\n",
        "nomes\n",
        "\n",
        "#2 - Crie uma lista de nomes de frutas e ordene-a "
      ],
      "metadata": {
        "colab": {
          "base_uri": "https://localhost:8080/"
        },
        "id": "8MhvoFFp_gi3",
        "outputId": "9023776c-9a1f-4013-bd1b-5eccf39ec7bc"
      },
      "execution_count": 5,
      "outputs": [
        {
          "output_type": "execute_result",
          "data": {
            "text/plain": [
              "['Maristênio', 'Leo', 'Asdrúbal', 'Ademar']"
            ]
          },
          "metadata": {},
          "execution_count": 5
        }
      ]
    },
    {
      "cell_type": "code",
      "source": [
        "#Exemplo função map - criar uma nova lista com o dobro\n",
        "numeros = [2, 4, 6, 3]\n",
        "nova_lista= list(map(lambda x : x*2, numeros))\n",
        "nova_lista"
      ],
      "metadata": {
        "colab": {
          "base_uri": "https://localhost:8080/"
        },
        "id": "g83DjjohBOd6",
        "outputId": "6ad94454-cc86-4504-e071-2ccb21c0973c"
      },
      "execution_count": 7,
      "outputs": [
        {
          "output_type": "execute_result",
          "data": {
            "text/plain": [
              "[4, 8, 12, 6]"
            ]
          },
          "metadata": {},
          "execution_count": 7
        }
      ]
    },
    {
      "cell_type": "code",
      "source": [
        "#pegar cada um dos números e dividir por 3 \n",
        "numeroDivi= list(map(lambda x : x/3, numeros))\n",
        "\n",
        "numeroDivi"
      ],
      "metadata": {
        "colab": {
          "base_uri": "https://localhost:8080/"
        },
        "id": "rHFXhPaNDG2e",
        "outputId": "6572d53c-f399-4ddf-f6dc-38891d3d5736"
      },
      "execution_count": 10,
      "outputs": [
        {
          "output_type": "execute_result",
          "data": {
            "text/plain": [
              "[0.6666666666666666, 1.3333333333333333, 2.0, 1.0]"
            ]
          },
          "metadata": {},
          "execution_count": 10
        }
      ]
    },
    {
      "cell_type": "code",
      "source": [
        "#pega cada número e soma 2.\n",
        "soma2 = list(map(lambda x : x+2, numeros))\n",
        "\n",
        "soma2\n",
        "\n"
      ],
      "metadata": {
        "colab": {
          "base_uri": "https://localhost:8080/"
        },
        "id": "8biuKNIGEAtG",
        "outputId": "4dc83736-d333-4a00-b4da-41d2ba8baa0a"
      },
      "execution_count": 14,
      "outputs": [
        {
          "output_type": "execute_result",
          "data": {
            "text/plain": [
              "[4, 6, 8, 5]"
            ]
          },
          "metadata": {},
          "execution_count": 14
        }
      ]
    },
    {
      "cell_type": "code",
      "source": [
        "#Exemplo função - a partir de uma lista de nomes,\n",
        "\n",
        "nomes = ['José', 'João', 'Sebastião','Angélica', 'Leonardo','Barbara']\n",
        "\n",
        "new_list = list(filter(lambda x : len(x)>5, nomes))\n",
        "new_list"
      ],
      "metadata": {
        "colab": {
          "base_uri": "https://localhost:8080/"
        },
        "id": "hdoHMwbPFC7C",
        "outputId": "9e729115-cc0e-4889-d248-071988301a85"
      },
      "execution_count": 35,
      "outputs": [
        {
          "output_type": "execute_result",
          "data": {
            "text/plain": [
              "['Sebastião', 'Angélica', 'Leonardo', 'Barbara']"
            ]
          },
          "metadata": {},
          "execution_count": 35
        }
      ]
    },
    {
      "cell_type": "code",
      "source": [
        "# Crie uma lista de notas, imprime as maiores que 6\n",
        "\n",
        "num = [10, 3, 5, 8, 6, 7]\n",
        "\n",
        "nunsNotas = new_list = list(filter(lambda x : x >= 6, num))\n",
        "\n",
        "nunsNotas"
      ],
      "metadata": {
        "colab": {
          "base_uri": "https://localhost:8080/"
        },
        "id": "RsRPV3sxF9sF",
        "outputId": "1eb871a5-ad5a-4db6-994d-78c7deae6844"
      },
      "execution_count": 34,
      "outputs": [
        {
          "output_type": "execute_result",
          "data": {
            "text/plain": [
              "[10, 8, 6, 7]"
            ]
          },
          "metadata": {},
          "execution_count": 34
        }
      ]
    },
    {
      "cell_type": "code",
      "source": [
        "#1 - dada uma lista de números, retorne uma lista contendo o quadrado de cada número\n",
        "\n",
        "#2 - dada uma lista de nomes, retorne uma lista contendo o tamanho de nome \n",
        "\n",
        "#3 - dada uma lista de números, retorne uma lista contendo apenas os números pares\n",
        "\n",
        "#4 - dada uma lista de n\n"
      ],
      "metadata": {
        "colab": {
          "base_uri": "https://localhost:8080/"
        },
        "id": "-0-xbtl0IfFV",
        "outputId": "7da893b7-58e1-4678-9ac3-801b341410a8"
      },
      "execution_count": 48,
      "outputs": [
        {
          "output_type": "execute_result",
          "data": {
            "text/plain": [
              "[5, 10, 6, 9]"
            ]
          },
          "metadata": {},
          "execution_count": 48
        }
      ]
    },
    {
      "cell_type": "code",
      "source": [
        "#1 - dada uma lista de números, retorne uma lista contendo o quadrado de cada número\n",
        "num = [5, 10, 6, 9]\n",
        "new_list = list(filter(lambda x : (x+x)*2, num))\n",
        "\n",
        "new_list"
      ],
      "metadata": {
        "colab": {
          "base_uri": "https://localhost:8080/",
          "height": 130
        },
        "id": "IwUvJ41vOLes",
        "outputId": "60ea1d05-248b-421a-9984-5bab243a525c"
      },
      "execution_count": 51,
      "outputs": [
        {
          "output_type": "error",
          "ename": "SyntaxError",
          "evalue": "ignored",
          "traceback": [
            "\u001b[0;36m  File \u001b[0;32m\"<ipython-input-51-bfa3cd27e2d7>\"\u001b[0;36m, line \u001b[0;32m3\u001b[0m\n\u001b[0;31m    new_list = list(filter(lambda x : pow = (x/2), num))\u001b[0m\n\u001b[0m                           ^\u001b[0m\n\u001b[0;31mSyntaxError\u001b[0m\u001b[0;31m:\u001b[0m expression cannot contain assignment, perhaps you meant \"==\"?\n"
          ]
        }
      ]
    }
  ]
}