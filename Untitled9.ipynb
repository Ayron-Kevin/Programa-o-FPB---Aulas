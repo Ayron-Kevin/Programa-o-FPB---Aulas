{
  "nbformat": 4,
  "nbformat_minor": 0,
  "metadata": {
    "colab": {
      "provenance": [],
      "authorship_tag": "ABX9TyOqgbn+2BYbNAduxuAcZcfQ",
      "include_colab_link": true
    },
    "kernelspec": {
      "name": "python3",
      "display_name": "Python 3"
    },
    "language_info": {
      "name": "python"
    }
  },
  "cells": [
    {
      "cell_type": "markdown",
      "metadata": {
        "id": "view-in-github",
        "colab_type": "text"
      },
      "source": [
        "<a href=\"https://colab.research.google.com/github/Ayron-Kevin/Programa-o-FPB---Aulas/blob/main/Untitled9.ipynb\" target=\"_parent\"><img src=\"https://colab.research.google.com/assets/colab-badge.svg\" alt=\"Open In Colab\"/></a>"
      ]
    },
    {
      "cell_type": "code",
      "execution_count": 1,
      "metadata": {
        "colab": {
          "base_uri": "https://localhost:8080/"
        },
        "id": "_rTA4-pmB4p4",
        "outputId": "5c9223a8-62af-48fe-8972-fe6e6def4ab1"
      },
      "outputs": [
        {
          "output_type": "execute_result",
          "data": {
            "text/plain": [
              "{'Ostervaldo': 'oster@email.com',\n",
              " 'Masristênio': 'marist@email.com',\n",
              " 'Leroiane': 'lero@email.com',\n",
              " 'Jozezin': ['zezin@exemplo.com', 'zemane@exemplo.com']}"
            ]
          },
          "metadata": {},
          "execution_count": 1
        }
      ],
      "source": [
        "#Criando dicionarios\n",
        "# Os dicionarios são chaves definidos utilizando chaves {}\n",
        "#e os pares chave-valor são seperados por dois pontos (:\n",
        "\n",
        "#Contatos\n",
        "contatos = {\n",
        "    'Ostervaldo' : 'oster@email.com',\n",
        "    'Masristênio' : 'marist@email.com',\n",
        "    'Leroiane' : 'lero@email.com',\n",
        "    'Jozezin' : ['zezin@exemplo.com', 'zemane@exemplo.com']\n",
        "\n",
        "\n",
        "}\n",
        "\n",
        "contatos"
      ]
    },
    {
      "cell_type": "code",
      "source": [
        "#Acessando valores\n",
        "contatos['Leroiane']"
      ],
      "metadata": {
        "colab": {
          "base_uri": "https://localhost:8080/",
          "height": 35
        },
        "id": "1Nkm6jAUEWZO",
        "outputId": "4e1ef4e3-4829-49e8-a43d-f5b73553d287"
      },
      "execution_count": 3,
      "outputs": [
        {
          "output_type": "execute_result",
          "data": {
            "text/plain": [
              "'lero@email.com'"
            ],
            "application/vnd.google.colaboratory.intrinsic+json": {
              "type": "string"
            }
          },
          "metadata": {},
          "execution_count": 3
        }
      ]
    },
    {
      "cell_type": "code",
      "source": [
        "#Para evitar erros ao buscar por possíveis valores inexistente\n",
        "contatos.get('Rebeca', 'Contato inexistente')"
      ],
      "metadata": {
        "colab": {
          "base_uri": "https://localhost:8080/",
          "height": 35
        },
        "id": "aAt1MtBvEttn",
        "outputId": "180c80b0-a2ef-459b-b204-1695d6d53a95"
      },
      "execution_count": 4,
      "outputs": [
        {
          "output_type": "execute_result",
          "data": {
            "text/plain": [
              "'Contato inexistente'"
            ],
            "application/vnd.google.colaboratory.intrinsic+json": {
              "type": "string"
            }
          },
          "metadata": {},
          "execution_count": 4
        }
      ]
    },
    {
      "cell_type": "code",
      "source": [
        "#CRUD\n",
        "#C - CREATE\n",
        "#R - RECOVERY\n",
        "#U - UPDATE\n",
        "#D - DELETE"
      ],
      "metadata": {
        "id": "0shaeslTFcQm"
      },
      "execution_count": null,
      "outputs": []
    },
    {
      "cell_type": "code",
      "source": [
        "#Criar\n",
        "lutas = {}\n",
        "lutas"
      ],
      "metadata": {
        "colab": {
          "base_uri": "https://localhost:8080/"
        },
        "id": "Fn1MDLtYGYVc",
        "outputId": "f9cc5bca-0f77-49aa-8edd-9ff599c3c6e7"
      },
      "execution_count": 5,
      "outputs": [
        {
          "output_type": "execute_result",
          "data": {
            "text/plain": [
              "{}"
            ]
          },
          "metadata": {},
          "execution_count": 5
        }
      ]
    },
    {
      "cell_type": "code",
      "source": [
        "#Criar \n",
        "luchadores = [\n",
        "    {\n",
        "        \"nome\":'Israel Adesanya',\n",
        "     \"Categoria\" : \"Meio médio\",\n",
        "     \"envergadura\": 2\n",
        "     \n",
        "    },\n",
        "    {\n",
        "    \"nome\":'Luana Pinheiro',\n",
        "    \"categoria\" : \"Palha\",\n",
        "    \"envergadura\": 1.6 \n",
        "    }\n",
        "\n",
        "]\n",
        "luchadores"
      ],
      "metadata": {
        "colab": {
          "base_uri": "https://localhost:8080/"
        },
        "id": "DZ27LEBYGkGa",
        "outputId": "32fca3c6-b8d0-49eb-c61b-14b8576a1c8b"
      },
      "execution_count": 7,
      "outputs": [
        {
          "output_type": "execute_result",
          "data": {
            "text/plain": [
              "[{'nome': 'Israel Adesanya', 'Categoria': 'Meio médio', 'envergadura': 2},\n",
              " {'nome': 'Luana Pinheiro', 'categoria': 'Palha', 'envergadura': 1.6}]"
            ]
          },
          "metadata": {},
          "execution_count": 7
        }
      ]
    },
    {
      "cell_type": "code",
      "source": [
        "#Adição por concatenação\n",
        "contacts = {'zé': 'ze@gmail.com',\n",
        "            'gardenia': 'gardenia@exemplo.com',\n",
        "            'Aloisio' : 'aloisio@exml.com'}\n",
        "\n",
        "contatos.update(contacts)\n",
        "contatos"
      ],
      "metadata": {
        "colab": {
          "base_uri": "https://localhost:8080/"
        },
        "id": "vofPc9qNI2P_",
        "outputId": "9a742aba-f288-460f-b97c-a7a9c2a0ac47"
      },
      "execution_count": 14,
      "outputs": [
        {
          "output_type": "execute_result",
          "data": {
            "text/plain": [
              "{'Ostervaldo': 'oster@email.com',\n",
              " 'Masristênio': 'marist@email.com',\n",
              " 'Leroiane': 'lero@email.com',\n",
              " 'Jozezin': ['zezin@exemplo.com', 'zemane@exemplo.com'],\n",
              " 'zé': 'ze@gmail.com',\n",
              " 'gardenia': 'gardenia@exemplo.com',\n",
              " 'Aloisio': 'aloisio@exml.com',\n",
              " 'Maristênio': 'sten@email.com'}"
            ]
          },
          "metadata": {},
          "execution_count": 14
        }
      ]
    },
    {
      "cell_type": "code",
      "source": [
        "#Modificar (só inserir um novo valor à chave correspondente)\n",
        "contatos['Maristênio'] = 'sten@exemplo.com'\n",
        "\n",
        "contatos"
      ],
      "metadata": {
        "colab": {
          "base_uri": "https://localhost:8080/"
        },
        "id": "ACI1j3n0KKvx",
        "outputId": "75bbe0ca-2e8d-4147-dcac-e0146b1696e9"
      },
      "execution_count": 17,
      "outputs": [
        {
          "output_type": "execute_result",
          "data": {
            "text/plain": [
              "{'Ostervaldo': 'oster@email.com',\n",
              " 'Masristênio': 'marist@email.com',\n",
              " 'Leroiane': 'lero@email.com',\n",
              " 'Jozezin': ['zezin@exemplo.com', 'zemane@exemplo.com'],\n",
              " 'zé': 'ze@gmail.com',\n",
              " 'gardenia': 'gardenia@exemplo.com',\n",
              " 'Aloisio': 'aloisio@exml.com',\n",
              " 'Maristênio': 'sten@exemplo.com'}"
            ]
          },
          "metadata": {},
          "execution_count": 17
        }
      ]
    },
    {
      "cell_type": "code",
      "source": [
        "#remoção del\n",
        "\n",
        "del contatos['Leroiane']\n",
        "\n",
        "contatos"
      ],
      "metadata": {
        "colab": {
          "base_uri": "https://localhost:8080/"
        },
        "id": "d4q9up1LLJUx",
        "outputId": "436bb9f6-a16a-4207-98a8-658d21d99652"
      },
      "execution_count": 18,
      "outputs": [
        {
          "output_type": "execute_result",
          "data": {
            "text/plain": [
              "{'Ostervaldo': 'oster@email.com',\n",
              " 'Masristênio': 'marist@email.com',\n",
              " 'Jozezin': ['zezin@exemplo.com', 'zemane@exemplo.com'],\n",
              " 'zé': 'ze@gmail.com',\n",
              " 'gardenia': 'gardenia@exemplo.com',\n",
              " 'Aloisio': 'aloisio@exml.com',\n",
              " 'Maristênio': 'sten@exemplo.com'}"
            ]
          },
          "metadata": {},
          "execution_count": 18
        }
      ]
    },
    {
      "cell_type": "code",
      "source": [],
      "metadata": {
        "colab": {
          "base_uri": "https://localhost:8080/",
          "height": 200
        },
        "id": "rYU-q53OMhiu",
        "outputId": "2df41c6b-3b6e-4d13-a1d9-395847804870"
      },
      "execution_count": 21,
      "outputs": [
        {
          "output_type": "error",
          "ename": "AttributeError",
          "evalue": "ignored",
          "traceback": [
            "\u001b[0;31m---------------------------------------------------------------------------\u001b[0m",
            "\u001b[0;31mAttributeError\u001b[0m                            Traceback (most recent call last)",
            "\u001b[0;32m<ipython-input-21-dd7be716e74d>\u001b[0m in \u001b[0;36m<cell line: 1>\u001b[0;34m()\u001b[0m\n\u001b[0;32m----> 1\u001b[0;31m \u001b[0mcontatos\u001b[0m\u001b[0;34m.\u001b[0m\u001b[0mitens\u001b[0m\u001b[0;34m(\u001b[0m\u001b[0;34m)\u001b[0m\u001b[0;34m\u001b[0m\u001b[0;34m\u001b[0m\u001b[0m\n\u001b[0m\u001b[1;32m      2\u001b[0m \u001b[0;34m\u001b[0m\u001b[0m\n\u001b[1;32m      3\u001b[0m \u001b[0mcontatos\u001b[0m\u001b[0;34m.\u001b[0m\u001b[0mitens\u001b[0m\u001b[0;34m\u001b[0m\u001b[0;34m\u001b[0m\u001b[0m\n",
            "\u001b[0;31mAttributeError\u001b[0m: 'dict' object has no attribute 'itens'"
          ]
        }
      ]
    },
    {
      "cell_type": "code",
      "source": [
        "curso = {'Alice': 8.5, 'Tiago': 7.0,\n",
        "         'Chico': 6.5, 'Nubia': 10}\n",
        "\n",
        "#quem obteve a maior nota ?\n",
        "max(curso, key = curso.get)"
      ],
      "metadata": {
        "colab": {
          "base_uri": "https://localhost:8080/",
          "height": 35
        },
        "id": "zu_fc3etQ2Hh",
        "outputId": "e0bfc7f8-13ab-44fa-c65f-d1571ea478a5"
      },
      "execution_count": 23,
      "outputs": [
        {
          "output_type": "execute_result",
          "data": {
            "text/plain": [
              "'Nubia'"
            ],
            "application/vnd.google.colaboratory.intrinsic+json": {
              "type": "string"
            }
          },
          "metadata": {},
          "execution_count": 23
        }
      ]
    },
    {
      "cell_type": "code",
      "source": [
        "#E a menor nota?\n",
        "min(curso, key = curso.get)"
      ],
      "metadata": {
        "colab": {
          "base_uri": "https://localhost:8080/",
          "height": 35
        },
        "id": "AWikiEe1S5BG",
        "outputId": "b60b204a-5187-4563-eceb-38405f057d69"
      },
      "execution_count": 24,
      "outputs": [
        {
          "output_type": "execute_result",
          "data": {
            "text/plain": [
              "'Chico'"
            ],
            "application/vnd.google.colaboratory.intrinsic+json": {
              "type": "string"
            }
          },
          "metadata": {},
          "execution_count": 24
        }
      ]
    },
    {
      "cell_type": "code",
      "source": [
        "#Ordene pela nota da menor para a maior\n",
        "sorted(curso, key = curso.get)"
      ],
      "metadata": {
        "colab": {
          "base_uri": "https://localhost:8080/"
        },
        "id": "5A3mOfRXTe5s",
        "outputId": "628b4b16-e169-42f1-ea1a-8886cc71bbd1"
      },
      "execution_count": 25,
      "outputs": [
        {
          "output_type": "execute_result",
          "data": {
            "text/plain": [
              "['Chico', 'Tiago', 'Alice', 'Nubia']"
            ]
          },
          "metadata": {},
          "execution_count": 25
        }
      ]
    },
    {
      "cell_type": "code",
      "source": [
        "sorted(curso, key = curso.get, reverse=True)"
      ],
      "metadata": {
        "colab": {
          "base_uri": "https://localhost:8080/"
        },
        "id": "yEFUkAI3TrlY",
        "outputId": "4788440d-7d1c-494b-b9b8-9959c17c8d32"
      },
      "execution_count": 26,
      "outputs": [
        {
          "output_type": "execute_result",
          "data": {
            "text/plain": [
              "['Nubia', 'Alice', 'Tiago', 'Chico']"
            ]
          },
          "metadata": {},
          "execution_count": 26
        }
      ]
    }
  ]
}