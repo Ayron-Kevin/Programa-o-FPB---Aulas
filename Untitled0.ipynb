{
  "nbformat": 4,
  "nbformat_minor": 0,
  "metadata": {
    "colab": {
      "provenance": [],
      "authorship_tag": "ABX9TyNYDOeTWax/InhaE7H/O51k",
      "include_colab_link": true
    },
    "kernelspec": {
      "name": "python3",
      "display_name": "Python 3"
    },
    "language_info": {
      "name": "python"
    }
  },
  "cells": [
    {
      "cell_type": "markdown",
      "metadata": {
        "id": "view-in-github",
        "colab_type": "text"
      },
      "source": [
        "<a href=\"https://colab.research.google.com/github/Ayron-Kevin/Programa-o-FPB---Aulas/blob/main/Untitled0.ipynb\" target=\"_parent\"><img src=\"https://colab.research.google.com/assets/colab-badge.svg\" alt=\"Open In Colab\"/></a>"
      ]
    },
    {
      "cell_type": "code",
      "source": [
        "#Solicita a altura e o peso de alguém, retorne o IMC\n",
        "#IMC = peso / altura **2\n",
        "\n",
        "float(input('informe a sua altura: '))\n",
        "peso = float(input('informe o seu peso: '))\n",
        "imc = peso/altura**2\n",
        "print('seu imc e:', imc)"
      ],
      "metadata": {
        "colab": {
          "base_uri": "https://localhost:8080/"
        },
        "id": "Zw7-8gq_t0eR",
        "outputId": "af7c19d2-0a86-42a2-8647-2e0c8bc679e3"
      },
      "execution_count": 68,
      "outputs": [
        {
          "output_type": "stream",
          "name": "stdout",
          "text": [
            "informe a sua altura: 170\n",
            "informe o seu peso: 75\n",
            "seu imc e: 25.95155709342561\n"
          ]
        }
      ]
    },
    {
      "cell_type": "code",
      "source": [
        "#Verificar se um número é par \n",
        "num = int(input('Digite um numero:'))\n",
        "if(num%2 == 0):\n",
        "  print('o numero é par')\n",
        "else:\n",
        "  print('o numero é impar')"
      ],
      "metadata": {
        "colab": {
          "base_uri": "https://localhost:8080/"
        },
        "id": "nt699qBIx2dU",
        "outputId": "51256148-38eb-4903-f751-514b49ec2389"
      },
      "execution_count": 48,
      "outputs": [
        {
          "output_type": "stream",
          "name": "stdout",
          "text": [
            "Digite um numero:3\n",
            "o numero é impar\n"
          ]
        }
      ]
    },
    {
      "cell_type": "code",
      "source": [
        "#Em um campeonato de MMA, tem três categorias por peso\n",
        "#galo até 70kg\n",
        "#medio até 80kg\n",
        "#meio pesado até 90kg\n",
        "peso = float(input('Digite o peso do atleta:'))\n",
        "if(peso<= 70):\n",
        "  print('galo')\n",
        "elif(peso<= 80):\n",
        "  print('medio')\n",
        "else:\n",
        "  print('meio pesado')"
      ],
      "metadata": {
        "colab": {
          "base_uri": "https://localhost:8080/"
        },
        "id": "Ra1ESeeUya03",
        "outputId": "04ff84eb-6ba4-4bb9-8cd8-88f0a7ee2852"
      },
      "execution_count": 43,
      "outputs": [
        {
          "output_type": "stream",
          "name": "stdout",
          "text": [
            "Digite o peso do atleta:88\n",
            "meio pesado\n"
          ]
        }
      ]
    },
    {
      "cell_type": "code",
      "source": [
        "\n",
        "float(input('informe a sua altura: '))\n",
        "peso = float(input('informe o seu peso: '))\n",
        "imc = peso/altura**2\n",
        "print('seu imc e:', imc)\n",
        "\n",
        "if(imc < 18.5):\n",
        "  print('abaixo do peso normal')\n",
        "elif(imc <= 24.9):\n",
        " print('peso normal')\n",
        "elif(imc <= 29.9):\n",
        " print('exesso de peso')\n",
        "elif(imc <= 34.9):\n",
        " print('exesso de peso')\n",
        "elif(imc <= 39.9):\n",
        " print('exessp de peso')\n",
        "else:\n",
        "  print('obesidade classe')\n"
      ],
      "metadata": {
        "colab": {
          "base_uri": "https://localhost:8080/"
        },
        "id": "fNGFEPLN5Wnk",
        "outputId": "e6d45a38-fd1a-40e9-a132-0e949c60dcee"
      },
      "execution_count": 67,
      "outputs": [
        {
          "output_type": "stream",
          "name": "stdout",
          "text": [
            "informe a sua altura: 1.70\n",
            "informe o seu peso: 75\n",
            "seu imc e: 25.95155709342561\n",
            "exesso de peso\n"
          ]
        }
      ]
    }
  ]
}